{
 "cells": [
  {
   "cell_type": "code",
   "execution_count": 15,
   "metadata": {},
   "outputs": [],
   "source": [
    "import cv2\n",
    "import numpy as np\n",
    "import time"
   ]
  },
  {
   "cell_type": "code",
   "execution_count": 16,
   "metadata": {},
   "outputs": [],
   "source": [
    "#webcam\n",
    "cap = cv2.VideoCapture(0)"
   ]
  },
  {
   "cell_type": "code",
   "execution_count": 17,
   "metadata": {},
   "outputs": [],
   "source": [
    "last_time = time.time()\n",
    "while True:\n",
    "    #capture frame\n",
    "    _, frame = cap.read()\n",
    "    \n",
    "    #convert to HSV color space\n",
    "    hsv = cv2.cvtColor(frame, cv2.COLOR_BGR2HSV)\n",
    "    \n",
    "    #Create a mask based on medium to high Saturation and Value\n",
    "    mask = cv2.inRange(hsv, (0, 75, 40), (180, 255, 255))\n",
    "    \n",
    "    #copy the mask 3 times to fit the frames\n",
    "    mask_3d = np.repeat(mask[:, :, np.newaxis], 3, axis=2)\n",
    "    \n",
    "    #Create a blurred frame using Gaussian blur\n",
    "    blurred_frame = cv2.GaussianBlur(frame, (25, 25), 0)\n",
    "    \n",
    "    #Combine the original with the blurred frame\n",
    "    frame = np.where(mask_3d == (255, 255, 255), frame, blurred_frame)\n",
    "    \n",
    "    #adding fps label to image\n",
    "    text = f\"FPS: {int(1 / (time.time() - last_time))}\"\n",
    "    last_time = time.time()\n",
    "    cv2.putText(frame, text, (10, 20), cv2.FONT_HERSHEY_PLAIN, 2, (0, 255, 0), 2)\n",
    "    \n",
    "    #Show the frame with blurred background\n",
    "    cv2.imshow(\"Webcam\", frame)\n",
    "    \n",
    "    # If q is pressed terminate\n",
    "    if cv2.waitKey(1) == ord('q'):\n",
    "        break\n",
    "\n",
    "cap.release()\n",
    "cv2.destroyAllWindows()"
   ]
  },
  {
   "cell_type": "code",
   "execution_count": null,
   "metadata": {},
   "outputs": [],
   "source": []
  },
  {
   "cell_type": "code",
   "execution_count": null,
   "metadata": {},
   "outputs": [],
   "source": []
  },
  {
   "cell_type": "code",
   "execution_count": null,
   "metadata": {},
   "outputs": [],
   "source": []
  },
  {
   "cell_type": "code",
   "execution_count": null,
   "metadata": {},
   "outputs": [],
   "source": []
  },
  {
   "cell_type": "code",
   "execution_count": null,
   "metadata": {},
   "outputs": [],
   "source": []
  },
  {
   "cell_type": "code",
   "execution_count": null,
   "metadata": {},
   "outputs": [],
   "source": []
  },
  {
   "cell_type": "code",
   "execution_count": null,
   "metadata": {},
   "outputs": [],
   "source": []
  },
  {
   "cell_type": "code",
   "execution_count": null,
   "metadata": {},
   "outputs": [],
   "source": []
  }
 ],
 "metadata": {
  "kernelspec": {
   "display_name": "Python 3",
   "language": "python",
   "name": "python3"
  },
  "language_info": {
   "codemirror_mode": {
    "name": "ipython",
    "version": 3
   },
   "file_extension": ".py",
   "mimetype": "text/x-python",
   "name": "python",
   "nbconvert_exporter": "python",
   "pygments_lexer": "ipython3",
   "version": "3.7.6"
  }
 },
 "nbformat": 4,
 "nbformat_minor": 4
}
